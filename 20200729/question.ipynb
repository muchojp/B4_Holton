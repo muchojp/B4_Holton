{
 "cells": [
  {
   "cell_type": "code",
   "execution_count": 118,
   "metadata": {},
   "outputs": [],
   "source": [
    "import numpy as np\n",
    "import matplotlib.pyplot as plt\n",
    "%matplotlib inline\n",
    "import pandas as pd\n",
    "from scipy.special import lambertw"
   ]
  },
  {
   "cell_type": "code",
   "execution_count": 119,
   "metadata": {},
   "outputs": [
    {
     "data": {
      "text/html": [
       "<div>\n",
       "<style scoped>\n",
       "    .dataframe tbody tr th:only-of-type {\n",
       "        vertical-align: middle;\n",
       "    }\n",
       "\n",
       "    .dataframe tbody tr th {\n",
       "        vertical-align: top;\n",
       "    }\n",
       "\n",
       "    .dataframe thead th {\n",
       "        text-align: right;\n",
       "    }\n",
       "</style>\n",
       "<table border=\"1\" class=\"dataframe\">\n",
       "  <thead>\n",
       "    <tr style=\"text-align: right;\">\n",
       "      <th></th>\n",
       "      <th>date</th>\n",
       "      <th>shizuoka_p</th>\n",
       "      <th>shizuoka_qual</th>\n",
       "      <th>shizuoka_homo</th>\n",
       "      <th>fuji_p</th>\n",
       "      <th>fuji_qual</th>\n",
       "      <th>fuji_homo</th>\n",
       "    </tr>\n",
       "  </thead>\n",
       "  <tbody>\n",
       "    <tr>\n",
       "      <th>0</th>\n",
       "      <td>Jan-00</td>\n",
       "      <td>1015.9</td>\n",
       "      <td>8</td>\n",
       "      <td>1</td>\n",
       "      <td>630.8</td>\n",
       "      <td>5</td>\n",
       "      <td>1</td>\n",
       "    </tr>\n",
       "    <tr>\n",
       "      <th>1</th>\n",
       "      <td>Feb-00</td>\n",
       "      <td>1010.5</td>\n",
       "      <td>8</td>\n",
       "      <td>1</td>\n",
       "      <td>622.8</td>\n",
       "      <td>5</td>\n",
       "      <td>1</td>\n",
       "    </tr>\n",
       "    <tr>\n",
       "      <th>2</th>\n",
       "      <td>Mar-00</td>\n",
       "      <td>1010.8</td>\n",
       "      <td>8</td>\n",
       "      <td>1</td>\n",
       "      <td>626.9</td>\n",
       "      <td>8</td>\n",
       "      <td>1</td>\n",
       "    </tr>\n",
       "    <tr>\n",
       "      <th>3</th>\n",
       "      <td>Apr-00</td>\n",
       "      <td>1008.8</td>\n",
       "      <td>8</td>\n",
       "      <td>1</td>\n",
       "      <td>632.9</td>\n",
       "      <td>8</td>\n",
       "      <td>1</td>\n",
       "    </tr>\n",
       "    <tr>\n",
       "      <th>4</th>\n",
       "      <td>May-00</td>\n",
       "      <td>1009.5</td>\n",
       "      <td>8</td>\n",
       "      <td>1</td>\n",
       "      <td>640.2</td>\n",
       "      <td>8</td>\n",
       "      <td>1</td>\n",
       "    </tr>\n",
       "  </tbody>\n",
       "</table>\n",
       "</div>"
      ],
      "text/plain": [
       "     date  shizuoka_p  shizuoka_qual  shizuoka_homo  fuji_p  fuji_qual  \\\n",
       "0  Jan-00      1015.9              8              1   630.8          5   \n",
       "1  Feb-00      1010.5              8              1   622.8          5   \n",
       "2  Mar-00      1010.8              8              1   626.9          8   \n",
       "3  Apr-00      1008.8              8              1   632.9          8   \n",
       "4  May-00      1009.5              8              1   640.2          8   \n",
       "\n",
       "   fuji_homo  \n",
       "0          1  \n",
       "1          1  \n",
       "2          1  \n",
       "3          1  \n",
       "4          1  "
      ]
     },
     "execution_count": 119,
     "metadata": {},
     "output_type": "execute_result"
    }
   ],
   "source": [
    "df = pd.read_csv('data_pp.csv')\n",
    "df.head()"
   ]
  },
  {
   "cell_type": "code",
   "execution_count": 120,
   "metadata": {},
   "outputs": [
    {
     "name": "stdout",
     "output_type": "stream",
     "text": [
      "[8 5]\n",
      "[5 8 4 1]\n"
     ]
    }
   ],
   "source": [
    "print(df['shizuoka_qual'].unique())\n",
    "print(df['fuji_qual'].unique())"
   ]
  },
  {
   "cell_type": "code",
   "execution_count": 121,
   "metadata": {},
   "outputs": [
    {
     "name": "stdout",
     "output_type": "stream",
     "text": [
      "<class 'pandas.core.frame.DataFrame'>\n",
      "RangeIndex: 240 entries, 0 to 239\n",
      "Data columns (total 7 columns):\n",
      " #   Column         Non-Null Count  Dtype  \n",
      "---  ------         --------------  -----  \n",
      " 0   date           240 non-null    object \n",
      " 1   shizuoka_p     240 non-null    float64\n",
      " 2   shizuoka_qual  240 non-null    int64  \n",
      " 3   shizuoka_homo  240 non-null    int64  \n",
      " 4   fuji_p         239 non-null    float64\n",
      " 5   fuji_qual      240 non-null    int64  \n",
      " 6   fuji_homo      240 non-null    int64  \n",
      "dtypes: float64(2), int64(4), object(1)\n",
      "memory usage: 13.2+ KB\n",
      "None\n"
     ]
    }
   ],
   "source": [
    "print(df.info())"
   ]
  },
  {
   "cell_type": "code",
   "execution_count": 122,
   "metadata": {},
   "outputs": [
    {
     "data": {
      "text/html": [
       "<div>\n",
       "<style scoped>\n",
       "    .dataframe tbody tr th:only-of-type {\n",
       "        vertical-align: middle;\n",
       "    }\n",
       "\n",
       "    .dataframe tbody tr th {\n",
       "        vertical-align: top;\n",
       "    }\n",
       "\n",
       "    .dataframe thead th {\n",
       "        text-align: right;\n",
       "    }\n",
       "</style>\n",
       "<table border=\"1\" class=\"dataframe\">\n",
       "  <thead>\n",
       "    <tr style=\"text-align: right;\">\n",
       "      <th></th>\n",
       "      <th>date</th>\n",
       "      <th>shizuoka_p</th>\n",
       "      <th>shizuoka_qual</th>\n",
       "      <th>shizuoka_homo</th>\n",
       "      <th>fuji_p</th>\n",
       "      <th>fuji_qual</th>\n",
       "      <th>fuji_homo</th>\n",
       "    </tr>\n",
       "  </thead>\n",
       "  <tbody>\n",
       "    <tr>\n",
       "      <th>232</th>\n",
       "      <td>May-19</td>\n",
       "      <td>1011.4</td>\n",
       "      <td>8</td>\n",
       "      <td>1</td>\n",
       "      <td>NaN</td>\n",
       "      <td>1</td>\n",
       "      <td>1</td>\n",
       "    </tr>\n",
       "  </tbody>\n",
       "</table>\n",
       "</div>"
      ],
      "text/plain": [
       "       date  shizuoka_p  shizuoka_qual  shizuoka_homo  fuji_p  fuji_qual  \\\n",
       "232  May-19      1011.4              8              1     NaN          1   \n",
       "\n",
       "     fuji_homo  \n",
       "232          1  "
      ]
     },
     "execution_count": 122,
     "metadata": {},
     "output_type": "execute_result"
    }
   ],
   "source": [
    "df[df['fuji_p'].isnull()]"
   ]
  },
  {
   "cell_type": "code",
   "execution_count": 123,
   "metadata": {},
   "outputs": [],
   "source": [
    "g = 9.81\n",
    "rho = 1.23\n",
    "R = 287\n",
    "gamma = 0.0065"
   ]
  },
  {
   "cell_type": "markdown",
   "metadata": {},
   "source": [
    "## LambertのW関数を用いる\n",
    "$x\\ln(x)$は初等関数では求められないが、LambertのW関数を用いることで値が求まる  \n",
    ">LambertのW関数は[こちら](https://oshiete.goo.ne.jp/qa/2726817.html)より求めた  \n",
    ">SciPyのlambertw関数に関するドキュメントは[こちら](https://docs.scipy.org/doc/scipy/reference/generated/scipy.special.lambertw.html)"
   ]
  },
  {
   "cell_type": "code",
   "execution_count": 124,
   "metadata": {},
   "outputs": [
    {
     "name": "stdout",
     "output_type": "stream",
     "text": [
      "0.0016600846297460544\n",
      "101758.78806000463\n"
     ]
    }
   ],
   "source": [
    "print(np.real(lambertw(14*(rho*g)*np.exp(-np.log(1015.9*100)))))\n",
    "print(np.exp(np.real(lambertw(14*(rho*g)*np.exp(-np.log(1015.9*100)))) + np.log(1015.9*100)))"
   ]
  },
  {
   "cell_type": "code",
   "execution_count": 171,
   "metadata": {},
   "outputs": [],
   "source": [
    "df['sea_level_p'] = np.round(np.exp(np.real(lambertw(14*(rho*g)*np.exp(-np.log(df['shizuoka_p']*100)))) \n",
    "                                    + np.log(df['shizuoka_p']*100))/100, decimals=1)\n",
    "df['fuji_z_est'] = np.round(df['sea_level_p']*100/(rho * g) * np.log(df['sea_level_p'] / df['fuji_p']))\n",
    "#df['fuji_z_from_shizuoka'] = np.round(df['sea_level_p']*100/(rho * g) * np.log(df['shizuoka_p'] / df['fuji_p'])) + 14\n",
    "#df['fuji_z_approx'] = np.round(df['shizuoka_p']*100/(rho * g) * np.log(df['shizuoka_p'] / df['fuji_p'])) + 14\n",
    "df['fuji_z_change_T'] = np.round(df['sea_level_p']*100/(rho*R*gamma)*(1-(df['fuji_p']/df['sea_level_p'])**(R*gamma/g)))\n",
    "df['diff'] = df['fuji_z_est'] - 3776\n",
    "\n",
    "df['relative_accuracy'] = (df['fuji_z_from_0'] - 3776)/3776*100\n",
    "df['sea_level_T'] = np.round(df['sea_level_p']*100/(rho*R))\n",
    "df['ln(sea_level_p/fuji_p)'] = np.log(df['sea_level_p']/df['fuji_p'])\n",
    "df['date_pp'] = np.linspace(0, 20, 20*12, endpoint=False)"
   ]
  },
  {
   "cell_type": "code",
   "execution_count": 168,
   "metadata": {},
   "outputs": [],
   "source": [
    "col = ['date', 'shizuoka_p', 'fuji_p', 'sea_level_p', 'fuji_z_est', 'relative_accuracy', \n",
    "       'fuji_z_change_T', 'sea_level_T', 'ln(sea_level_p/fuji_p)', 'date_pp']"
   ]
  },
  {
   "cell_type": "code",
   "execution_count": 169,
   "metadata": {},
   "outputs": [
    {
     "data": {
      "text/html": [
       "<div>\n",
       "<style scoped>\n",
       "    .dataframe tbody tr th:only-of-type {\n",
       "        vertical-align: middle;\n",
       "    }\n",
       "\n",
       "    .dataframe tbody tr th {\n",
       "        vertical-align: top;\n",
       "    }\n",
       "\n",
       "    .dataframe thead th {\n",
       "        text-align: right;\n",
       "    }\n",
       "</style>\n",
       "<table border=\"1\" class=\"dataframe\">\n",
       "  <thead>\n",
       "    <tr style=\"text-align: right;\">\n",
       "      <th></th>\n",
       "      <th>date</th>\n",
       "      <th>shizuoka_p</th>\n",
       "      <th>fuji_p</th>\n",
       "      <th>sea_level_p</th>\n",
       "      <th>fuji_z_est</th>\n",
       "      <th>relative_accuracy</th>\n",
       "      <th>fuji_z_change_T</th>\n",
       "      <th>sea_level_T</th>\n",
       "      <th>ln(sea_level_p/fuji_p)</th>\n",
       "      <th>date_pp</th>\n",
       "    </tr>\n",
       "  </thead>\n",
       "  <tbody>\n",
       "    <tr>\n",
       "      <th>0</th>\n",
       "      <td>Jan-00</td>\n",
       "      <td>1015.9</td>\n",
       "      <td>630.8</td>\n",
       "      <td>1017.6</td>\n",
       "      <td>4033.0</td>\n",
       "      <td>6.806144</td>\n",
       "      <td>3855.0</td>\n",
       "      <td>288.0</td>\n",
       "      <td>0.478213</td>\n",
       "      <td>0.000000</td>\n",
       "    </tr>\n",
       "    <tr>\n",
       "      <th>1</th>\n",
       "      <td>Feb-00</td>\n",
       "      <td>1010.5</td>\n",
       "      <td>622.8</td>\n",
       "      <td>1012.2</td>\n",
       "      <td>4074.0</td>\n",
       "      <td>7.891949</td>\n",
       "      <td>3892.0</td>\n",
       "      <td>287.0</td>\n",
       "      <td>0.485656</td>\n",
       "      <td>0.083333</td>\n",
       "    </tr>\n",
       "    <tr>\n",
       "      <th>2</th>\n",
       "      <td>Mar-00</td>\n",
       "      <td>1010.8</td>\n",
       "      <td>626.9</td>\n",
       "      <td>1012.5</td>\n",
       "      <td>4023.0</td>\n",
       "      <td>6.541314</td>\n",
       "      <td>3845.0</td>\n",
       "      <td>287.0</td>\n",
       "      <td>0.479391</td>\n",
       "      <td>0.166667</td>\n",
       "    </tr>\n",
       "    <tr>\n",
       "      <th>3</th>\n",
       "      <td>Apr-00</td>\n",
       "      <td>1008.8</td>\n",
       "      <td>632.9</td>\n",
       "      <td>1010.5</td>\n",
       "      <td>3918.0</td>\n",
       "      <td>3.760593</td>\n",
       "      <td>3749.0</td>\n",
       "      <td>286.0</td>\n",
       "      <td>0.467888</td>\n",
       "      <td>0.250000</td>\n",
       "    </tr>\n",
       "    <tr>\n",
       "      <th>4</th>\n",
       "      <td>May-00</td>\n",
       "      <td>1009.5</td>\n",
       "      <td>640.2</td>\n",
       "      <td>1011.2</td>\n",
       "      <td>3831.0</td>\n",
       "      <td>1.456568</td>\n",
       "      <td>3669.0</td>\n",
       "      <td>286.0</td>\n",
       "      <td>0.457112</td>\n",
       "      <td>0.333333</td>\n",
       "    </tr>\n",
       "    <tr>\n",
       "      <th>5</th>\n",
       "      <td>Jun-00</td>\n",
       "      <td>1007.1</td>\n",
       "      <td>643.2</td>\n",
       "      <td>1008.8</td>\n",
       "      <td>3763.0</td>\n",
       "      <td>-0.344280</td>\n",
       "      <td>3606.0</td>\n",
       "      <td>286.0</td>\n",
       "      <td>0.450061</td>\n",
       "      <td>0.416667</td>\n",
       "    </tr>\n",
       "    <tr>\n",
       "      <th>6</th>\n",
       "      <td>Jul-00</td>\n",
       "      <td>1006.6</td>\n",
       "      <td>647.0</td>\n",
       "      <td>1008.3</td>\n",
       "      <td>3707.0</td>\n",
       "      <td>-1.827331</td>\n",
       "      <td>3555.0</td>\n",
       "      <td>286.0</td>\n",
       "      <td>0.443675</td>\n",
       "      <td>0.500000</td>\n",
       "    </tr>\n",
       "    <tr>\n",
       "      <th>7</th>\n",
       "      <td>Aug-00</td>\n",
       "      <td>1009.7</td>\n",
       "      <td>650.0</td>\n",
       "      <td>1011.4</td>\n",
       "      <td>3706.0</td>\n",
       "      <td>-1.853814</td>\n",
       "      <td>3554.0</td>\n",
       "      <td>287.0</td>\n",
       "      <td>0.442118</td>\n",
       "      <td>0.583333</td>\n",
       "    </tr>\n",
       "    <tr>\n",
       "      <th>8</th>\n",
       "      <td>Sep-00</td>\n",
       "      <td>1009.7</td>\n",
       "      <td>646.6</td>\n",
       "      <td>1011.4</td>\n",
       "      <td>3750.0</td>\n",
       "      <td>-0.688559</td>\n",
       "      <td>3595.0</td>\n",
       "      <td>287.0</td>\n",
       "      <td>0.447363</td>\n",
       "      <td>0.666667</td>\n",
       "    </tr>\n",
       "    <tr>\n",
       "      <th>9</th>\n",
       "      <td>Oct-00</td>\n",
       "      <td>1014.6</td>\n",
       "      <td>644.8</td>\n",
       "      <td>1016.3</td>\n",
       "      <td>3832.0</td>\n",
       "      <td>1.483051</td>\n",
       "      <td>3671.0</td>\n",
       "      <td>288.0</td>\n",
       "      <td>0.454984</td>\n",
       "      <td>0.750000</td>\n",
       "    </tr>\n",
       "    <tr>\n",
       "      <th>10</th>\n",
       "      <td>Nov-00</td>\n",
       "      <td>1016.9</td>\n",
       "      <td>641.2</td>\n",
       "      <td>1018.6</td>\n",
       "      <td>3907.0</td>\n",
       "      <td>3.469280</td>\n",
       "      <td>3740.0</td>\n",
       "      <td>289.0</td>\n",
       "      <td>0.462843</td>\n",
       "      <td>0.833333</td>\n",
       "    </tr>\n",
       "    <tr>\n",
       "      <th>11</th>\n",
       "      <td>Dec-00</td>\n",
       "      <td>1015.1</td>\n",
       "      <td>631.6</td>\n",
       "      <td>1016.8</td>\n",
       "      <td>4012.0</td>\n",
       "      <td>6.250000</td>\n",
       "      <td>3836.0</td>\n",
       "      <td>288.0</td>\n",
       "      <td>0.476159</td>\n",
       "      <td>0.916667</td>\n",
       "    </tr>\n",
       "    <tr>\n",
       "      <th>12</th>\n",
       "      <td>Jan-01</td>\n",
       "      <td>1012.2</td>\n",
       "      <td>624.6</td>\n",
       "      <td>1013.9</td>\n",
       "      <td>4071.0</td>\n",
       "      <td>7.812500</td>\n",
       "      <td>3889.0</td>\n",
       "      <td>287.0</td>\n",
       "      <td>0.484448</td>\n",
       "      <td>1.000000</td>\n",
       "    </tr>\n",
       "  </tbody>\n",
       "</table>\n",
       "</div>"
      ],
      "text/plain": [
       "      date  shizuoka_p  fuji_p  sea_level_p  fuji_z_est  relative_accuracy  \\\n",
       "0   Jan-00      1015.9   630.8       1017.6      4033.0           6.806144   \n",
       "1   Feb-00      1010.5   622.8       1012.2      4074.0           7.891949   \n",
       "2   Mar-00      1010.8   626.9       1012.5      4023.0           6.541314   \n",
       "3   Apr-00      1008.8   632.9       1010.5      3918.0           3.760593   \n",
       "4   May-00      1009.5   640.2       1011.2      3831.0           1.456568   \n",
       "5   Jun-00      1007.1   643.2       1008.8      3763.0          -0.344280   \n",
       "6   Jul-00      1006.6   647.0       1008.3      3707.0          -1.827331   \n",
       "7   Aug-00      1009.7   650.0       1011.4      3706.0          -1.853814   \n",
       "8   Sep-00      1009.7   646.6       1011.4      3750.0          -0.688559   \n",
       "9   Oct-00      1014.6   644.8       1016.3      3832.0           1.483051   \n",
       "10  Nov-00      1016.9   641.2       1018.6      3907.0           3.469280   \n",
       "11  Dec-00      1015.1   631.6       1016.8      4012.0           6.250000   \n",
       "12  Jan-01      1012.2   624.6       1013.9      4071.0           7.812500   \n",
       "\n",
       "    fuji_z_change_T  sea_level_T  ln(sea_level_p/fuji_p)   date_pp  \n",
       "0            3855.0        288.0                0.478213  0.000000  \n",
       "1            3892.0        287.0                0.485656  0.083333  \n",
       "2            3845.0        287.0                0.479391  0.166667  \n",
       "3            3749.0        286.0                0.467888  0.250000  \n",
       "4            3669.0        286.0                0.457112  0.333333  \n",
       "5            3606.0        286.0                0.450061  0.416667  \n",
       "6            3555.0        286.0                0.443675  0.500000  \n",
       "7            3554.0        287.0                0.442118  0.583333  \n",
       "8            3595.0        287.0                0.447363  0.666667  \n",
       "9            3671.0        288.0                0.454984  0.750000  \n",
       "10           3740.0        289.0                0.462843  0.833333  \n",
       "11           3836.0        288.0                0.476159  0.916667  \n",
       "12           3889.0        287.0                0.484448  1.000000  "
      ]
     },
     "execution_count": 169,
     "metadata": {},
     "output_type": "execute_result"
    }
   ],
   "source": [
    "df[col].head(13)"
   ]
  },
  {
   "cell_type": "code",
   "execution_count": 130,
   "metadata": {},
   "outputs": [
    {
     "data": {
      "text/plain": [
       "3880.878661087866"
      ]
     },
     "execution_count": 130,
     "metadata": {},
     "output_type": "execute_result"
    }
   ],
   "source": [
    "df['fuji_z_est'].mean()"
   ]
  },
  {
   "cell_type": "code",
   "execution_count": 131,
   "metadata": {},
   "outputs": [
    {
     "name": "stdout",
     "output_type": "stream",
     "text": [
      "8.501059322033898\n",
      "-2.5158898305084745\n"
     ]
    }
   ],
   "source": [
    "print(df['relative_accuracy'].max())\n",
    "print(df['relative_accuracy'].min())"
   ]
  },
  {
   "cell_type": "code",
   "execution_count": 142,
   "metadata": {},
   "outputs": [
    {
     "data": {
      "image/png": "[encoded data removed]",
      "text/plain": [
       "<Figure size 1008x432 with 1 Axes>"
      ]
     },
     "metadata": {},
     "output_type": "display_data"
    }
   ],
   "source": [
    "plt.figure(figsize = (14, 6))\n",
    "plt.style.use('seaborn-whitegrid')\n",
    "plt.plot(df['date_pp'], df['fuji_z_est'], 'b', label='estimated height')\n",
    "#plt.plot(df['date'][:72], df['fuji_height'][:72])\n",
    "plt.hlines([3776], -0.5, 20.5, \"r\", linestyles='dashdot', label='true height = 3776')\n",
    "#plt.vlines(np.arange(0, 21)-1/24, 3670, 4180, 'k', linestyles = 'dotted')\n",
    "plt.xticks(np.arange(0, 21))\n",
    "plt.xlim([-.5, 20.5])\n",
    "plt.ylim([3670, 4130])\n",
    "plt.xlabel('year(20xx)')\n",
    "plt.ylabel('height(m)')\n",
    "plt.legend(loc='upper right')\n",
    "plt.savefig('plot.jpg')\n",
    "plt.show()"
   ]
  },
  {
   "cell_type": "code",
   "execution_count": 140,
   "metadata": {},
   "outputs": [
    {
     "data": {
      "image/png": "[encoded data removed]",
      "text/plain": [
       "<Figure size 1008x432 with 1 Axes>"
      ]
     },
     "metadata": {},
     "output_type": "display_data"
    }
   ],
   "source": [
    "plt.figure(figsize = (14, 6))\n",
    "plt.style.use('seaborn-whitegrid')\n",
    "plt.plot(df['date_pp'], df['relative_accuracy'], 'b', label='estimated height')\n",
    "#plt.plot(df['date'][:72], df['fuji_height'][:72])\n",
    "plt.hlines([0], -0.5, 20.5, \"r\", linestyles='dashdot', label='true height = 3776')\n",
    "#plt.vlines(np.arange(0, 21)-1/24, 3670, 4180, 'k', linestyles = 'dotted')\n",
    "plt.xticks(np.arange(0, 21))\n",
    "plt.xlim([-.5, 20.5])\n",
    "plt.ylim([-2.8, 9.5])\n",
    "plt.xlabel('year(20xx)')\n",
    "plt.ylabel('relative accuracy(%)')\n",
    "plt.legend(loc='upper right')\n",
    "plt.savefig('acc.jpg')\n",
    "plt.show()"
   ]
  },
  {
   "cell_type": "code",
   "execution_count": 173,
   "metadata": {},
   "outputs": [],
   "source": [
    "df[['date', 'shizuoka_p', 'fuji_p', 'sea_level_p', 'ln(sea_level_p/fuji_p)', 'fuji_z_est', 'diff', \n",
    "   'relative_accuracy']].head(12).to_csv('table.csv', index=False)"
   ]
  },
  {
   "cell_type": "code",
   "execution_count": 150,
   "metadata": {},
   "outputs": [
    {
     "name": "stdout",
     "output_type": "stream",
     "text": [
      "285.0 289.0\n"
     ]
    }
   ],
   "source": [
    "print(df['sea_level_T'].min(), df['sea_level_T'].max())"
   ]
  },
  {
   "cell_type": "code",
   "execution_count": 163,
   "metadata": {},
   "outputs": [],
   "source": [
    "df_temp = pd.read_csv('temp.csv')"
   ]
  },
  {
   "cell_type": "code",
   "execution_count": 164,
   "metadata": {},
   "outputs": [],
   "source": [
    "df_temp['mean_temp'] = (df_temp['shizuoka_temp'] + df_temp['fuji_temp']) / 2"
   ]
  },
  {
   "cell_type": "code",
   "execution_count": 165,
   "metadata": {},
   "outputs": [
    {
     "data": {
      "text/html": [
       "<div>\n",
       "<style scoped>\n",
       "    .dataframe tbody tr th:only-of-type {\n",
       "        vertical-align: middle;\n",
       "    }\n",
       "\n",
       "    .dataframe tbody tr th {\n",
       "        vertical-align: top;\n",
       "    }\n",
       "\n",
       "    .dataframe thead th {\n",
       "        text-align: right;\n",
       "    }\n",
       "</style>\n",
       "<table border=\"1\" class=\"dataframe\">\n",
       "  <thead>\n",
       "    <tr style=\"text-align: right;\">\n",
       "      <th></th>\n",
       "      <th>date</th>\n",
       "      <th>shizuoka_temp</th>\n",
       "      <th>fuji_temp</th>\n",
       "      <th>mean_temp</th>\n",
       "    </tr>\n",
       "  </thead>\n",
       "  <tbody>\n",
       "    <tr>\n",
       "      <th>0</th>\n",
       "      <td>Jan-00</td>\n",
       "      <td>8.3</td>\n",
       "      <td>-15.6</td>\n",
       "      <td>-3.65</td>\n",
       "    </tr>\n",
       "    <tr>\n",
       "      <th>1</th>\n",
       "      <td>Feb-00</td>\n",
       "      <td>5.9</td>\n",
       "      <td>-20.8</td>\n",
       "      <td>-7.45</td>\n",
       "    </tr>\n",
       "    <tr>\n",
       "      <th>2</th>\n",
       "      <td>Mar-00</td>\n",
       "      <td>9.6</td>\n",
       "      <td>-16.8</td>\n",
       "      <td>-3.60</td>\n",
       "    </tr>\n",
       "    <tr>\n",
       "      <th>3</th>\n",
       "      <td>Apr-00</td>\n",
       "      <td>14.9</td>\n",
       "      <td>-10.3</td>\n",
       "      <td>2.30</td>\n",
       "    </tr>\n",
       "    <tr>\n",
       "      <th>4</th>\n",
       "      <td>May-00</td>\n",
       "      <td>19.6</td>\n",
       "      <td>-3.7</td>\n",
       "      <td>7.95</td>\n",
       "    </tr>\n",
       "    <tr>\n",
       "      <th>5</th>\n",
       "      <td>Jun-00</td>\n",
       "      <td>21.8</td>\n",
       "      <td>2.1</td>\n",
       "      <td>11.95</td>\n",
       "    </tr>\n",
       "    <tr>\n",
       "      <th>6</th>\n",
       "      <td>Jul-00</td>\n",
       "      <td>26.2</td>\n",
       "      <td>4.1</td>\n",
       "      <td>15.15</td>\n",
       "    </tr>\n",
       "    <tr>\n",
       "      <th>7</th>\n",
       "      <td>Aug-00</td>\n",
       "      <td>27.2</td>\n",
       "      <td>6.7</td>\n",
       "      <td>16.95</td>\n",
       "    </tr>\n",
       "    <tr>\n",
       "      <th>8</th>\n",
       "      <td>Sep-00</td>\n",
       "      <td>24.4</td>\n",
       "      <td>2.9</td>\n",
       "      <td>13.65</td>\n",
       "    </tr>\n",
       "    <tr>\n",
       "      <th>9</th>\n",
       "      <td>Oct-00</td>\n",
       "      <td>19.3</td>\n",
       "      <td>-0.9</td>\n",
       "      <td>9.20</td>\n",
       "    </tr>\n",
       "    <tr>\n",
       "      <th>10</th>\n",
       "      <td>Nov-00</td>\n",
       "      <td>14.9</td>\n",
       "      <td>-6.4</td>\n",
       "      <td>4.25</td>\n",
       "    </tr>\n",
       "    <tr>\n",
       "      <th>11</th>\n",
       "      <td>Dec-00</td>\n",
       "      <td>9.0</td>\n",
       "      <td>-14.6</td>\n",
       "      <td>-2.80</td>\n",
       "    </tr>\n",
       "  </tbody>\n",
       "</table>\n",
       "</div>"
      ],
      "text/plain": [
       "      date  shizuoka_temp  fuji_temp  mean_temp\n",
       "0   Jan-00            8.3      -15.6      -3.65\n",
       "1   Feb-00            5.9      -20.8      -7.45\n",
       "2   Mar-00            9.6      -16.8      -3.60\n",
       "3   Apr-00           14.9      -10.3       2.30\n",
       "4   May-00           19.6       -3.7       7.95\n",
       "5   Jun-00           21.8        2.1      11.95\n",
       "6   Jul-00           26.2        4.1      15.15\n",
       "7   Aug-00           27.2        6.7      16.95\n",
       "8   Sep-00           24.4        2.9      13.65\n",
       "9   Oct-00           19.3       -0.9       9.20\n",
       "10  Nov-00           14.9       -6.4       4.25\n",
       "11  Dec-00            9.0      -14.6      -2.80"
      ]
     },
     "execution_count": 165,
     "metadata": {},
     "output_type": "execute_result"
    }
   ],
   "source": [
    "df_temp.head(12)"
   ]
  },
  {
   "cell_type": "code",
   "execution_count": 166,
   "metadata": {},
   "outputs": [],
   "source": [
    "df_temp.head(12).to_csv('table_temp.csv', index=False)"
   ]
  },
  {
   "cell_type": "code",
   "execution_count": null,
   "metadata": {},
   "outputs": [],
   "source": []
  }
 ],
 "metadata": {
  "kernelspec": {
   "display_name": "Python 3",
   "language": "python",
   "name": "python3"
  },
  "language_info": {
   "codemirror_mode": {
    "name": "ipython",
    "version": 3
   },
   "file_extension": ".py",
   "mimetype": "text/x-python",
   "name": "python",
   "nbconvert_exporter": "python",
   "pygments_lexer": "ipython3",
   "version": "3.7.7"
  }
 },
 "nbformat": 4,
 "nbformat_minor": 4
}
