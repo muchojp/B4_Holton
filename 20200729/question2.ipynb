{
 "cells": [
  {
   "cell_type": "code",
   "execution_count": 175,
   "metadata": {},
   "outputs": [],
   "source": [
    "import numpy as np\n",
    "import matplotlib.pyplot as plt\n",
    "%matplotlib inline\n",
    "import pandas as pd\n",
    "from scipy.special import lambertw\n",
    "from tqdm import tqdm"
   ]
  },
  {
   "cell_type": "code",
   "execution_count": 176,
   "metadata": {},
   "outputs": [
    {
     "data": {
      "text/html": [
       "<div>\n",
       "<style scoped>\n",
       "    .dataframe tbody tr th:only-of-type {\n",
       "        vertical-align: middle;\n",
       "    }\n",
       "\n",
       "    .dataframe tbody tr th {\n",
       "        vertical-align: top;\n",
       "    }\n",
       "\n",
       "    .dataframe thead th {\n",
       "        text-align: right;\n",
       "    }\n",
       "</style>\n",
       "<table border=\"1\" class=\"dataframe\">\n",
       "  <thead>\n",
       "    <tr style=\"text-align: right;\">\n",
       "      <th></th>\n",
       "      <th>date</th>\n",
       "      <th>shizuoka_p</th>\n",
       "      <th>shizuoka_qual</th>\n",
       "      <th>shizuoka_homo</th>\n",
       "      <th>fuji_p</th>\n",
       "      <th>fuji_qual</th>\n",
       "      <th>fuji_homo</th>\n",
       "    </tr>\n",
       "  </thead>\n",
       "  <tbody>\n",
       "    <tr>\n",
       "      <th>0</th>\n",
       "      <td>Jan-00</td>\n",
       "      <td>1015.9</td>\n",
       "      <td>8</td>\n",
       "      <td>1</td>\n",
       "      <td>630.8</td>\n",
       "      <td>5</td>\n",
       "      <td>1</td>\n",
       "    </tr>\n",
       "    <tr>\n",
       "      <th>1</th>\n",
       "      <td>Feb-00</td>\n",
       "      <td>1010.5</td>\n",
       "      <td>8</td>\n",
       "      <td>1</td>\n",
       "      <td>622.8</td>\n",
       "      <td>5</td>\n",
       "      <td>1</td>\n",
       "    </tr>\n",
       "    <tr>\n",
       "      <th>2</th>\n",
       "      <td>Mar-00</td>\n",
       "      <td>1010.8</td>\n",
       "      <td>8</td>\n",
       "      <td>1</td>\n",
       "      <td>626.9</td>\n",
       "      <td>8</td>\n",
       "      <td>1</td>\n",
       "    </tr>\n",
       "    <tr>\n",
       "      <th>3</th>\n",
       "      <td>Apr-00</td>\n",
       "      <td>1008.8</td>\n",
       "      <td>8</td>\n",
       "      <td>1</td>\n",
       "      <td>632.9</td>\n",
       "      <td>8</td>\n",
       "      <td>1</td>\n",
       "    </tr>\n",
       "    <tr>\n",
       "      <th>4</th>\n",
       "      <td>May-00</td>\n",
       "      <td>1009.5</td>\n",
       "      <td>8</td>\n",
       "      <td>1</td>\n",
       "      <td>640.2</td>\n",
       "      <td>8</td>\n",
       "      <td>1</td>\n",
       "    </tr>\n",
       "  </tbody>\n",
       "</table>\n",
       "</div>"
      ],
      "text/plain": [
       "     date  shizuoka_p  shizuoka_qual  shizuoka_homo  fuji_p  fuji_qual  \\\n",
       "0  Jan-00      1015.9              8              1   630.8          5   \n",
       "1  Feb-00      1010.5              8              1   622.8          5   \n",
       "2  Mar-00      1010.8              8              1   626.9          8   \n",
       "3  Apr-00      1008.8              8              1   632.9          8   \n",
       "4  May-00      1009.5              8              1   640.2          8   \n",
       "\n",
       "   fuji_homo  \n",
       "0          1  \n",
       "1          1  \n",
       "2          1  \n",
       "3          1  \n",
       "4          1  "
      ]
     },
     "execution_count": 176,
     "metadata": {},
     "output_type": "execute_result"
    }
   ],
   "source": [
    "df = pd.read_csv('data_pp.csv')\n",
    "df.head()"
   ]
  },
  {
   "cell_type": "code",
   "execution_count": 177,
   "metadata": {},
   "outputs": [
    {
     "name": "stdout",
     "output_type": "stream",
     "text": [
      "[8 5]\n",
      "[5 8 4 1]\n"
     ]
    }
   ],
   "source": [
    "print(df['shizuoka_qual'].unique())\n",
    "print(df['fuji_qual'].unique())"
   ]
  },
  {
   "cell_type": "code",
   "execution_count": 178,
   "metadata": {},
   "outputs": [
    {
     "name": "stdout",
     "output_type": "stream",
     "text": [
      "<class 'pandas.core.frame.DataFrame'>\n",
      "RangeIndex: 240 entries, 0 to 239\n",
      "Data columns (total 7 columns):\n",
      " #   Column         Non-Null Count  Dtype  \n",
      "---  ------         --------------  -----  \n",
      " 0   date           240 non-null    object \n",
      " 1   shizuoka_p     240 non-null    float64\n",
      " 2   shizuoka_qual  240 non-null    int64  \n",
      " 3   shizuoka_homo  240 non-null    int64  \n",
      " 4   fuji_p         239 non-null    float64\n",
      " 5   fuji_qual      240 non-null    int64  \n",
      " 6   fuji_homo      240 non-null    int64  \n",
      "dtypes: float64(2), int64(4), object(1)\n",
      "memory usage: 13.2+ KB\n",
      "None\n"
     ]
    }
   ],
   "source": [
    "print(df.info())"
   ]
  },
  {
   "cell_type": "code",
   "execution_count": 179,
   "metadata": {},
   "outputs": [
    {
     "data": {
      "text/html": [
       "<div>\n",
       "<style scoped>\n",
       "    .dataframe tbody tr th:only-of-type {\n",
       "        vertical-align: middle;\n",
       "    }\n",
       "\n",
       "    .dataframe tbody tr th {\n",
       "        vertical-align: top;\n",
       "    }\n",
       "\n",
       "    .dataframe thead th {\n",
       "        text-align: right;\n",
       "    }\n",
       "</style>\n",
       "<table border=\"1\" class=\"dataframe\">\n",
       "  <thead>\n",
       "    <tr style=\"text-align: right;\">\n",
       "      <th></th>\n",
       "      <th>date</th>\n",
       "      <th>shizuoka_p</th>\n",
       "      <th>shizuoka_qual</th>\n",
       "      <th>shizuoka_homo</th>\n",
       "      <th>fuji_p</th>\n",
       "      <th>fuji_qual</th>\n",
       "      <th>fuji_homo</th>\n",
       "    </tr>\n",
       "  </thead>\n",
       "  <tbody>\n",
       "    <tr>\n",
       "      <th>232</th>\n",
       "      <td>May-19</td>\n",
       "      <td>1011.4</td>\n",
       "      <td>8</td>\n",
       "      <td>1</td>\n",
       "      <td>NaN</td>\n",
       "      <td>1</td>\n",
       "      <td>1</td>\n",
       "    </tr>\n",
       "  </tbody>\n",
       "</table>\n",
       "</div>"
      ],
      "text/plain": [
       "       date  shizuoka_p  shizuoka_qual  shizuoka_homo  fuji_p  fuji_qual  \\\n",
       "232  May-19      1011.4              8              1     NaN          1   \n",
       "\n",
       "     fuji_homo  \n",
       "232          1  "
      ]
     },
     "execution_count": 179,
     "metadata": {},
     "output_type": "execute_result"
    }
   ],
   "source": [
    "df[df['fuji_p'].isnull()]"
   ]
  },
  {
   "cell_type": "code",
   "execution_count": 180,
   "metadata": {},
   "outputs": [],
   "source": [
    "g = 9.81\n",
    "rho = 1.23\n",
    "R = 287\n",
    "gamma = 0.0065"
   ]
  },
  {
   "cell_type": "markdown",
   "metadata": {},
   "source": [
    "## LambertのW関数を用いる\n",
    "$x\\ln(x)$は初等関数では求められないが、LambertのW関数を用いることで値が求まる  \n",
    ">LambertのW関数は[こちら](https://oshiete.goo.ne.jp/qa/2726817.html)より求めた  \n",
    ">SciPyのlambertw関数に関するドキュメントは[こちら](https://docs.scipy.org/doc/scipy/reference/generated/scipy.special.lambertw.html)"
   ]
  },
  {
   "cell_type": "code",
   "execution_count": 181,
   "metadata": {},
   "outputs": [
    {
     "name": "stdout",
     "output_type": "stream",
     "text": [
      "0.0016600846297460544\n",
      "101758.78806000463\n"
     ]
    }
   ],
   "source": [
    "print(np.real(lambertw(14*(rho*g)*np.exp(-np.log(1015.9*100)))))\n",
    "print(np.exp(np.real(lambertw(14*(rho*g)*np.exp(-np.log(1015.9*100)))) + np.log(1015.9*100)))"
   ]
  },
  {
   "cell_type": "code",
   "execution_count": 182,
   "metadata": {},
   "outputs": [
    {
     "name": "stdout",
     "output_type": "stream",
     "text": [
      "0.1901630988786952 32.12391 8.929260525618524\n"
     ]
    }
   ],
   "source": [
    "print(R*gamma/g, rho*R*gamma*14, 100000**(R*gamma/g))"
   ]
  },
  {
   "cell_type": "code",
   "execution_count": 199,
   "metadata": {},
   "outputs": [],
   "source": [
    "#df['sea_level_p2'] = np.round((rho * R * gamma * 14) * (df['shizuoka_p']*100)**(R*gamma/g))"
   ]
  },
  {
   "cell_type": "code",
   "execution_count": 200,
   "metadata": {},
   "outputs": [],
   "source": [
    "df['sea_level_p'] = np.round(np.exp(np.real(lambertw(14*(rho*g)*np.exp(-np.log(df['shizuoka_p']*100)))) \n",
    "                                    + np.log(df['shizuoka_p']*100))/100, decimals=1)\n",
    "df['fuji_z_est'] = np.round(df['sea_level_p']*100/(rho * g) * np.log(df['sea_level_p'] / df['fuji_p']))\n",
    "#df['fuji_z_from_shizuoka'] = np.round(df['sea_level_p']*100/(rho * g) * np.log(df['shizuoka_p'] / df['fuji_p'])) + 14\n",
    "#df['fuji_z_approx'] = np.round(df['shizuoka_p']*100/(rho * g) * np.log(df['shizuoka_p'] / df['fuji_p'])) + 14\n",
    "df['fuji_z_change_T2'] = np.round(df['sea_level_p']*100/(rho*R*gamma)*(1-(df['fuji_p']/df['sea_level_p2'])**(R*gamma/g)))\n",
    "#df['diff'] = df['fuji_z_est'] - 3776\n",
    "\n",
    "df['relative_accuracy'] = (df['fuji_z_est'] - 3776)/3776*100\n",
    "df['sea_level_T2'] = np.round(df['sea_level_p2']*100/(rho*R))\n",
    "#df['ln(sea_level_p/fuji_p)'] = np.log(df['sea_level_p']/df['fuji_p'])\n",
    "df['date_pp'] = np.linspace(2000, 2020, 20*12, endpoint=False)"
   ]
  },
  {
   "cell_type": "code",
   "execution_count": 185,
   "metadata": {},
   "outputs": [],
   "source": [
    "col = ['date', 'shizuoka_p', 'fuji_p', 'sea_level_p2', 'sea_level_p']"
   ]
  },
  {
   "cell_type": "code",
   "execution_count": 233,
   "metadata": {},
   "outputs": [
    {
     "data": {
      "text/html": [
       "<div>\n",
       "<style scoped>\n",
       "    .dataframe tbody tr th:only-of-type {\n",
       "        vertical-align: middle;\n",
       "    }\n",
       "\n",
       "    .dataframe tbody tr th {\n",
       "        vertical-align: top;\n",
       "    }\n",
       "\n",
       "    .dataframe thead th {\n",
       "        text-align: right;\n",
       "    }\n",
       "</style>\n",
       "<table border=\"1\" class=\"dataframe\">\n",
       "  <thead>\n",
       "    <tr style=\"text-align: right;\">\n",
       "      <th></th>\n",
       "      <th>date</th>\n",
       "      <th>shizuoka_p</th>\n",
       "      <th>fuji_p</th>\n",
       "      <th>sea_level_p2</th>\n",
       "      <th>sea_level_p</th>\n",
       "    </tr>\n",
       "  </thead>\n",
       "  <tbody>\n",
       "    <tr>\n",
       "      <th>0</th>\n",
       "      <td>Jan-00</td>\n",
       "      <td>1015.9</td>\n",
       "      <td>630.8</td>\n",
       "      <td>1017.6</td>\n",
       "      <td>1017.6</td>\n",
       "    </tr>\n",
       "    <tr>\n",
       "      <th>1</th>\n",
       "      <td>Feb-00</td>\n",
       "      <td>1010.5</td>\n",
       "      <td>622.8</td>\n",
       "      <td>1012.2</td>\n",
       "      <td>1012.2</td>\n",
       "    </tr>\n",
       "    <tr>\n",
       "      <th>2</th>\n",
       "      <td>Mar-00</td>\n",
       "      <td>1010.8</td>\n",
       "      <td>626.9</td>\n",
       "      <td>1012.5</td>\n",
       "      <td>1012.5</td>\n",
       "    </tr>\n",
       "    <tr>\n",
       "      <th>3</th>\n",
       "      <td>Apr-00</td>\n",
       "      <td>1008.8</td>\n",
       "      <td>632.9</td>\n",
       "      <td>1010.5</td>\n",
       "      <td>1010.5</td>\n",
       "    </tr>\n",
       "    <tr>\n",
       "      <th>4</th>\n",
       "      <td>May-00</td>\n",
       "      <td>1009.5</td>\n",
       "      <td>640.2</td>\n",
       "      <td>1011.2</td>\n",
       "      <td>1011.2</td>\n",
       "    </tr>\n",
       "    <tr>\n",
       "      <th>5</th>\n",
       "      <td>Jun-00</td>\n",
       "      <td>1007.1</td>\n",
       "      <td>643.2</td>\n",
       "      <td>1008.8</td>\n",
       "      <td>1008.8</td>\n",
       "    </tr>\n",
       "    <tr>\n",
       "      <th>6</th>\n",
       "      <td>Jul-00</td>\n",
       "      <td>1006.6</td>\n",
       "      <td>647.0</td>\n",
       "      <td>1008.3</td>\n",
       "      <td>1008.3</td>\n",
       "    </tr>\n",
       "    <tr>\n",
       "      <th>7</th>\n",
       "      <td>Aug-00</td>\n",
       "      <td>1009.7</td>\n",
       "      <td>650.0</td>\n",
       "      <td>1011.4</td>\n",
       "      <td>1011.4</td>\n",
       "    </tr>\n",
       "    <tr>\n",
       "      <th>8</th>\n",
       "      <td>Sep-00</td>\n",
       "      <td>1009.7</td>\n",
       "      <td>646.6</td>\n",
       "      <td>1011.4</td>\n",
       "      <td>1011.4</td>\n",
       "    </tr>\n",
       "    <tr>\n",
       "      <th>9</th>\n",
       "      <td>Oct-00</td>\n",
       "      <td>1014.6</td>\n",
       "      <td>644.8</td>\n",
       "      <td>1016.3</td>\n",
       "      <td>1016.3</td>\n",
       "    </tr>\n",
       "    <tr>\n",
       "      <th>10</th>\n",
       "      <td>Nov-00</td>\n",
       "      <td>1016.9</td>\n",
       "      <td>641.2</td>\n",
       "      <td>1018.6</td>\n",
       "      <td>1018.6</td>\n",
       "    </tr>\n",
       "    <tr>\n",
       "      <th>11</th>\n",
       "      <td>Dec-00</td>\n",
       "      <td>1015.1</td>\n",
       "      <td>631.6</td>\n",
       "      <td>1016.8</td>\n",
       "      <td>1016.8</td>\n",
       "    </tr>\n",
       "    <tr>\n",
       "      <th>12</th>\n",
       "      <td>Jan-01</td>\n",
       "      <td>1012.2</td>\n",
       "      <td>624.6</td>\n",
       "      <td>1013.9</td>\n",
       "      <td>1013.9</td>\n",
       "    </tr>\n",
       "  </tbody>\n",
       "</table>\n",
       "</div>"
      ],
      "text/plain": [
       "      date  shizuoka_p  fuji_p  sea_level_p2  sea_level_p\n",
       "0   Jan-00      1015.9   630.8        1017.6       1017.6\n",
       "1   Feb-00      1010.5   622.8        1012.2       1012.2\n",
       "2   Mar-00      1010.8   626.9        1012.5       1012.5\n",
       "3   Apr-00      1008.8   632.9        1010.5       1010.5\n",
       "4   May-00      1009.5   640.2        1011.2       1011.2\n",
       "5   Jun-00      1007.1   643.2        1008.8       1008.8\n",
       "6   Jul-00      1006.6   647.0        1008.3       1008.3\n",
       "7   Aug-00      1009.7   650.0        1011.4       1011.4\n",
       "8   Sep-00      1009.7   646.6        1011.4       1011.4\n",
       "9   Oct-00      1014.6   644.8        1016.3       1016.3\n",
       "10  Nov-00      1016.9   641.2        1018.6       1018.6\n",
       "11  Dec-00      1015.1   631.6        1016.8       1016.8\n",
       "12  Jan-01      1012.2   624.6        1013.9       1013.9"
      ]
     },
     "execution_count": 233,
     "metadata": {},
     "output_type": "execute_result"
    }
   ],
   "source": [
    "df[col].head(13)\n",
    "#df[['date', 'shizuoka_p', 'fuji_p']][3:240:12].to_csv('table4.csv', index=False)"
   ]
  },
  {
   "cell_type": "code",
   "execution_count": 187,
   "metadata": {},
   "outputs": [
    {
     "name": "stdout",
     "output_type": "stream",
     "text": [
      "<class 'float'>\n",
      "<class 'float'>\n",
      "<class 'float'>\n",
      "<class 'float'>\n",
      "<class 'float'>\n"
     ]
    }
   ],
   "source": [
    "for i in df['shizuoka_p'].head(5):\n",
    "    print(type(i))"
   ]
  },
  {
   "cell_type": "code",
   "execution_count": 188,
   "metadata": {},
   "outputs": [
    {
     "name": "stderr",
     "output_type": "stream",
     "text": [
      "100%|██████████| 240/240 [00:00<00:00, 18509.05it/s]"
     ]
    },
    {
     "name": "stdout",
     "output_type": "stream",
     "text": [
      "done!\n"
     ]
    },
    {
     "name": "stderr",
     "output_type": "stream",
     "text": [
      "\n"
     ]
    }
   ],
   "source": [
    "xx = []\n",
    "for shizu_p in tqdm(df['shizuoka_p']):\n",
    "    #First index\n",
    "    i = 0\n",
    "\n",
    "    #Substitute 0 to each list index[0]\n",
    "    x = []\n",
    "    \n",
    "    #First x value\n",
    "    x.append(shizu_p*100)\n",
    "\n",
    "    #Newton method(計算したxの値が10**(-15)より小さくなるまで繰り返す)\n",
    "    while (np.abs((x[i])**(R*gamma/g)-rho*R*gamma*14*((x[i])**(R*gamma/g - 1))-(shizu_p*100)**(R*gamma/g)) > 10**(-15)):\n",
    "        #x_{n}における次のxを計算\n",
    "        x.append(x[i] - (((x[i])**(R*gamma/g)-rho*R*gamma*14*((x[i])**(R*gamma/g - 1))-(shizu_p*100)**(R*gamma/g))/\n",
    "                         ((R*gamma/g)*(x[i])**((R*gamma/g) - 1)-rho*R*gamma*14*(R*gamma/g-1)*(x[i])**((R*gamma/g)-2))))\n",
    "\n",
    "        #インデックスを次へ\n",
    "        i += 1\n",
    "\n",
    "    #ループを抜け出した際の最後のxをxxに格納\n",
    "    xx.append(x[i])\n",
    "\n",
    "numpy_xx = np.array(xx)\n",
    "df['sea_level_p2'] = np.round(numpy_xx/100, decimals=1)\n",
    "#df['sea_level_p2'] = numpy_xx/100\n",
    "print('done!')"
   ]
  },
  {
   "cell_type": "code",
   "execution_count": 189,
   "metadata": {},
   "outputs": [
    {
     "data": {
      "text/plain": [
       "2.412257060768752e-10"
      ]
     },
     "execution_count": 189,
     "metadata": {},
     "output_type": "execute_result"
    }
   ],
   "source": [
    "101758.8147**(R*gamma/g)-rho*R*gamma*14*(101758.8147**(R*gamma/g - 1))-(1015.9*100)**(R*gamma/g)"
   ]
  },
  {
   "cell_type": "code",
   "execution_count": 190,
   "metadata": {},
   "outputs": [
    {
     "data": {
      "text/plain": [
       "3880.878661087866"
      ]
     },
     "execution_count": 190,
     "metadata": {},
     "output_type": "execute_result"
    }
   ],
   "source": [
    "df['fuji_z_est'].mean()"
   ]
  },
  {
   "cell_type": "code",
   "execution_count": 191,
   "metadata": {},
   "outputs": [
    {
     "name": "stdout",
     "output_type": "stream",
     "text": [
      "8.501059322033898\n",
      "-2.5158898305084745\n"
     ]
    }
   ],
   "source": [
    "print(df['relative_accuracy'].max())\n",
    "print(df['relative_accuracy'].min())"
   ]
  },
  {
   "cell_type": "code",
   "execution_count": 192,
   "metadata": {},
   "outputs": [
    {
     "data": {
      "image/png": "[encoded data removed]",
      "text/plain": [
       "<Figure size 1008x432 with 1 Axes>"
      ]
     },
     "metadata": {
      "needs_background": "light"
     },
     "output_type": "display_data"
    }
   ],
   "source": [
    "plt.figure(figsize = (14, 6))\n",
    "plt.style.use('seaborn-whitegrid')\n",
    "plt.plot(df['date_pp'], df['fuji_z_est'], 'b', label='estimated height')\n",
    "#plt.plot(df['date'][:72], df['fuji_height'][:72])\n",
    "plt.hlines([3776], 1999.5, 2020.5, \"r\", linestyles='dashdot', label='true height = 3776')\n",
    "#plt.vlines(np.arange(0, 21)-1/24, 3670, 4180, 'k', linestyles = 'dotted')\n",
    "plt.xticks(np.arange(2000, 2021))\n",
    "plt.xlim([1999.5, 2020.5])\n",
    "plt.ylim([3670, 4130])\n",
    "plt.xlabel('year')\n",
    "plt.ylabel('height(m)')\n",
    "plt.legend(loc='upper right')\n",
    "plt.savefig('plot1.jpg')\n",
    "plt.show()"
   ]
  },
  {
   "cell_type": "code",
   "execution_count": 193,
   "metadata": {},
   "outputs": [
    {
     "data": {
      "image/png": "[encoded data removed]",
      "text/plain": [
       "<Figure size 1008x432 with 1 Axes>"
      ]
     },
     "metadata": {},
     "output_type": "display_data"
    }
   ],
   "source": [
    "plt.figure(figsize = (14, 6))\n",
    "plt.style.use('seaborn-whitegrid')\n",
    "plt.plot(df['date_pp'], df['relative_accuracy'], 'b', label='estimated height')\n",
    "#plt.plot(df['date'][:72], df['fuji_height'][:72])\n",
    "plt.hlines([0], 1999.5, 2020.5, \"r\", linestyles='dashdot', label='true height = 3776')\n",
    "#plt.vlines(np.arange(0, 21)-1/24, 3670, 4180, 'k', linestyles = 'dotted')\n",
    "plt.xticks(np.arange(2000, 2021))\n",
    "plt.xlim([1999.5, 2020.5])\n",
    "plt.ylim([-2.8, 9.5])\n",
    "plt.xlabel('year(20xx)')\n",
    "plt.ylabel('relative accuracy(%)')\n",
    "plt.legend(loc='upper right')\n",
    "plt.savefig('acc.jpg')\n",
    "plt.show()"
   ]
  },
  {
   "cell_type": "code",
   "execution_count": 201,
   "metadata": {},
   "outputs": [
    {
     "data": {
      "image/png": "[encoded data removed]",
      "text/plain": [
       "<Figure size 1008x432 with 1 Axes>"
      ]
     },
     "metadata": {},
     "output_type": "display_data"
    }
   ],
   "source": [
    "plt.figure(figsize = (14, 6))\n",
    "plt.style.use('seaborn-whitegrid')\n",
    "plt.plot(df['date_pp'], df['fuji_z_change_T2'], 'b', label='estimated height')\n",
    "#plt.plot(df['date'][:72], df['fuji_height'][:72])\n",
    "plt.hlines([3776], 1999.5, 2020.5, \"r\", linestyles='dashdot', label='true height = 3776')\n",
    "#plt.vlines(np.arange(0, 21)-1/24, 3520, 3950, 'k', linestyles = 'dotted')\n",
    "plt.xticks(np.arange(2000, 2021))\n",
    "plt.xlim([1999.5, 2020.5])\n",
    "plt.ylim([3520, 3950])\n",
    "plt.xlabel('year')\n",
    "plt.ylabel('height(m)')\n",
    "plt.legend(loc='upper right')\n",
    "plt.savefig('plot2.jpg')\n",
    "plt.show()"
   ]
  },
  {
   "cell_type": "code",
   "execution_count": 202,
   "metadata": {},
   "outputs": [],
   "source": [
    "df['relative_accuracy2'] = (df['fuji_z_change_T2'] - 3776)/3776*100"
   ]
  },
  {
   "cell_type": "code",
   "execution_count": 203,
   "metadata": {},
   "outputs": [],
   "source": [
    "df['shizuoka_est_T'] = df['sea_level_T2'] -273 - 0.1"
   ]
  },
  {
   "cell_type": "code",
   "execution_count": 204,
   "metadata": {},
   "outputs": [],
   "source": [
    "df['true_temp'] = df_temp['temp']"
   ]
  },
  {
   "cell_type": "code",
   "execution_count": 205,
   "metadata": {},
   "outputs": [],
   "source": [
    "df[['date', 'fuji_z_change_T2', 'relative_accuracy2', 'shizuoka_est_T', 'true_temp']].head(12).to_csv('table2.csv', index=False)"
   ]
  },
  {
   "cell_type": "code",
   "execution_count": 171,
   "metadata": {},
   "outputs": [
    {
     "name": "stdout",
     "output_type": "stream",
     "text": [
      "-152.489406779661 -156.01165254237287\n"
     ]
    }
   ],
   "source": [
    "print(df['relative_accuracy2'].max(), df['relative_accuracy2'].min())"
   ]
  },
  {
   "cell_type": "code",
   "execution_count": 172,
   "metadata": {},
   "outputs": [
    {
     "data": {
      "text/html": [
       "<div>\n",
       "<style scoped>\n",
       "    .dataframe tbody tr th:only-of-type {\n",
       "        vertical-align: middle;\n",
       "    }\n",
       "\n",
       "    .dataframe tbody tr th {\n",
       "        vertical-align: top;\n",
       "    }\n",
       "\n",
       "    .dataframe thead th {\n",
       "        text-align: right;\n",
       "    }\n",
       "</style>\n",
       "<table border=\"1\" class=\"dataframe\">\n",
       "  <thead>\n",
       "    <tr style=\"text-align: right;\">\n",
       "      <th></th>\n",
       "      <th>date</th>\n",
       "      <th>temp</th>\n",
       "    </tr>\n",
       "  </thead>\n",
       "  <tbody>\n",
       "    <tr>\n",
       "      <th>0</th>\n",
       "      <td>Jan-00</td>\n",
       "      <td>8.3</td>\n",
       "    </tr>\n",
       "    <tr>\n",
       "      <th>1</th>\n",
       "      <td>Feb-00</td>\n",
       "      <td>5.9</td>\n",
       "    </tr>\n",
       "    <tr>\n",
       "      <th>2</th>\n",
       "      <td>Mar-00</td>\n",
       "      <td>9.6</td>\n",
       "    </tr>\n",
       "    <tr>\n",
       "      <th>3</th>\n",
       "      <td>Apr-00</td>\n",
       "      <td>14.9</td>\n",
       "    </tr>\n",
       "    <tr>\n",
       "      <th>4</th>\n",
       "      <td>May-00</td>\n",
       "      <td>19.6</td>\n",
       "    </tr>\n",
       "  </tbody>\n",
       "</table>\n",
       "</div>"
      ],
      "text/plain": [
       "     date  temp\n",
       "0  Jan-00   8.3\n",
       "1  Feb-00   5.9\n",
       "2  Mar-00   9.6\n",
       "3  Apr-00  14.9\n",
       "4  May-00  19.6"
      ]
     },
     "execution_count": 172,
     "metadata": {},
     "output_type": "execute_result"
    }
   ],
   "source": [
    "df_temp = pd.read_csv('data_t.csv')\n",
    "df_temp.head()"
   ]
  },
  {
   "cell_type": "code",
   "execution_count": 213,
   "metadata": {},
   "outputs": [],
   "source": [
    "df_temp['sea_level_T'] = df_temp['temp'] - 0.1\n",
    "df_temp['fuji_est'] = (df_temp['sea_level_T']+273.15)/gamma*(1-(df['fuji_p']/df['sea_level_p'])**(R*gamma/g))\n",
    "df_temp['rho'] = df['sea_level_p']*100/(R*(df_temp['sea_level_T'] + 273))\n",
    "df_temp['relative_accuracy3'] = (df_temp['fuji_est'] - 3776)/3776*100"
   ]
  },
  {
   "cell_type": "code",
   "execution_count": 216,
   "metadata": {},
   "outputs": [],
   "source": [
    "df_temp.head(12).to_csv('table3.csv', index=False)"
   ]
  },
  {
   "cell_type": "code",
   "execution_count": 224,
   "metadata": {},
   "outputs": [
    {
     "data": {
      "text/html": [
       "<div>\n",
       "<style scoped>\n",
       "    .dataframe tbody tr th:only-of-type {\n",
       "        vertical-align: middle;\n",
       "    }\n",
       "\n",
       "    .dataframe tbody tr th {\n",
       "        vertical-align: top;\n",
       "    }\n",
       "\n",
       "    .dataframe thead th {\n",
       "        text-align: right;\n",
       "    }\n",
       "</style>\n",
       "<table border=\"1\" class=\"dataframe\">\n",
       "  <thead>\n",
       "    <tr style=\"text-align: right;\">\n",
       "      <th></th>\n",
       "      <th>date</th>\n",
       "      <th>temp</th>\n",
       "      <th>sea_level_T</th>\n",
       "      <th>fuji_est</th>\n",
       "      <th>rho</th>\n",
       "      <th>relative_accuracy3</th>\n",
       "      <th>date_pp</th>\n",
       "    </tr>\n",
       "  </thead>\n",
       "  <tbody>\n",
       "    <tr>\n",
       "      <th>216</th>\n",
       "      <td>Jan-18</td>\n",
       "      <td>6.1</td>\n",
       "      <td>6.0</td>\n",
       "      <td>3777.778268</td>\n",
       "      <td>1.266719</td>\n",
       "      <td>0.047094</td>\n",
       "      <td>2018.000000</td>\n",
       "    </tr>\n",
       "    <tr>\n",
       "      <th>217</th>\n",
       "      <td>Feb-18</td>\n",
       "      <td>6.7</td>\n",
       "      <td>6.6</td>\n",
       "      <td>3788.944865</td>\n",
       "      <td>1.266742</td>\n",
       "      <td>0.342820</td>\n",
       "      <td>2018.083333</td>\n",
       "    </tr>\n",
       "    <tr>\n",
       "      <th>218</th>\n",
       "      <td>Mar-18</td>\n",
       "      <td>12.6</td>\n",
       "      <td>12.5</td>\n",
       "      <td>3753.167723</td>\n",
       "      <td>1.240443</td>\n",
       "      <td>-0.604668</td>\n",
       "      <td>2018.166667</td>\n",
       "    </tr>\n",
       "    <tr>\n",
       "      <th>219</th>\n",
       "      <td>Apr-18</td>\n",
       "      <td>16.9</td>\n",
       "      <td>16.8</td>\n",
       "      <td>3755.701849</td>\n",
       "      <td>1.219873</td>\n",
       "      <td>-0.537557</td>\n",
       "      <td>2018.250000</td>\n",
       "    </tr>\n",
       "    <tr>\n",
       "      <th>220</th>\n",
       "      <td>May-18</td>\n",
       "      <td>20.0</td>\n",
       "      <td>19.9</td>\n",
       "      <td>3741.130105</td>\n",
       "      <td>1.203274</td>\n",
       "      <td>-0.923461</td>\n",
       "      <td>2018.333333</td>\n",
       "    </tr>\n",
       "    <tr>\n",
       "      <th>221</th>\n",
       "      <td>Jun-18</td>\n",
       "      <td>23.0</td>\n",
       "      <td>22.9</td>\n",
       "      <td>3730.421872</td>\n",
       "      <td>1.188366</td>\n",
       "      <td>-1.207048</td>\n",
       "      <td>2018.416667</td>\n",
       "    </tr>\n",
       "    <tr>\n",
       "      <th>222</th>\n",
       "      <td>Jul-18</td>\n",
       "      <td>28.1</td>\n",
       "      <td>28.0</td>\n",
       "      <td>3732.073029</td>\n",
       "      <td>1.169852</td>\n",
       "      <td>-1.163320</td>\n",
       "      <td>2018.500000</td>\n",
       "    </tr>\n",
       "    <tr>\n",
       "      <th>223</th>\n",
       "      <td>Aug-18</td>\n",
       "      <td>28.6</td>\n",
       "      <td>28.5</td>\n",
       "      <td>3733.353967</td>\n",
       "      <td>1.165947</td>\n",
       "      <td>-1.129397</td>\n",
       "      <td>2018.583333</td>\n",
       "    </tr>\n",
       "    <tr>\n",
       "      <th>224</th>\n",
       "      <td>Sep-18</td>\n",
       "      <td>24.0</td>\n",
       "      <td>23.9</td>\n",
       "      <td>3735.133088</td>\n",
       "      <td>1.188706</td>\n",
       "      <td>-1.082281</td>\n",
       "      <td>2018.666667</td>\n",
       "    </tr>\n",
       "    <tr>\n",
       "      <th>225</th>\n",
       "      <td>Oct-18</td>\n",
       "      <td>20.0</td>\n",
       "      <td>19.9</td>\n",
       "      <td>3749.025273</td>\n",
       "      <td>1.207676</td>\n",
       "      <td>-0.714373</td>\n",
       "      <td>2018.750000</td>\n",
       "    </tr>\n",
       "    <tr>\n",
       "      <th>226</th>\n",
       "      <td>Nov-18</td>\n",
       "      <td>15.4</td>\n",
       "      <td>15.3</td>\n",
       "      <td>3752.037544</td>\n",
       "      <td>1.231417</td>\n",
       "      <td>-0.634599</td>\n",
       "      <td>2018.833333</td>\n",
       "    </tr>\n",
       "    <tr>\n",
       "      <th>227</th>\n",
       "      <td>Dec-18</td>\n",
       "      <td>10.6</td>\n",
       "      <td>10.5</td>\n",
       "      <td>3765.577627</td>\n",
       "      <td>1.251037</td>\n",
       "      <td>-0.276016</td>\n",
       "      <td>2018.916667</td>\n",
       "    </tr>\n",
       "    <tr>\n",
       "      <th>228</th>\n",
       "      <td>Jan-19</td>\n",
       "      <td>7.6</td>\n",
       "      <td>7.5</td>\n",
       "      <td>3781.177184</td>\n",
       "      <td>1.261933</td>\n",
       "      <td>0.137108</td>\n",
       "      <td>2019.000000</td>\n",
       "    </tr>\n",
       "    <tr>\n",
       "      <th>229</th>\n",
       "      <td>Feb-19</td>\n",
       "      <td>9.6</td>\n",
       "      <td>9.5</td>\n",
       "      <td>3765.925635</td>\n",
       "      <td>1.254355</td>\n",
       "      <td>-0.266800</td>\n",
       "      <td>2019.083333</td>\n",
       "    </tr>\n",
       "    <tr>\n",
       "      <th>230</th>\n",
       "      <td>Mar-19</td>\n",
       "      <td>11.8</td>\n",
       "      <td>11.7</td>\n",
       "      <td>3783.956374</td>\n",
       "      <td>1.239277</td>\n",
       "      <td>0.210709</td>\n",
       "      <td>2019.166667</td>\n",
       "    </tr>\n",
       "    <tr>\n",
       "      <th>231</th>\n",
       "      <td>Apr-19</td>\n",
       "      <td>14.7</td>\n",
       "      <td>14.6</td>\n",
       "      <td>3840.816619</td>\n",
       "      <td>1.226781</td>\n",
       "      <td>1.716542</td>\n",
       "      <td>2019.250000</td>\n",
       "    </tr>\n",
       "    <tr>\n",
       "      <th>232</th>\n",
       "      <td>May-19</td>\n",
       "      <td>19.8</td>\n",
       "      <td>19.7</td>\n",
       "      <td>NaN</td>\n",
       "      <td>1.206001</td>\n",
       "      <td>NaN</td>\n",
       "      <td>2019.333333</td>\n",
       "    </tr>\n",
       "    <tr>\n",
       "      <th>233</th>\n",
       "      <td>Jun-19</td>\n",
       "      <td>22.6</td>\n",
       "      <td>22.5</td>\n",
       "      <td>3728.149283</td>\n",
       "      <td>1.187617</td>\n",
       "      <td>-1.267233</td>\n",
       "      <td>2019.416667</td>\n",
       "    </tr>\n",
       "    <tr>\n",
       "      <th>234</th>\n",
       "      <td>Jul-19</td>\n",
       "      <td>25.2</td>\n",
       "      <td>25.1</td>\n",
       "      <td>3720.889859</td>\n",
       "      <td>1.179596</td>\n",
       "      <td>-1.459485</td>\n",
       "      <td>2019.500000</td>\n",
       "    </tr>\n",
       "    <tr>\n",
       "      <th>235</th>\n",
       "      <td>Aug-19</td>\n",
       "      <td>28.7</td>\n",
       "      <td>28.6</td>\n",
       "      <td>3739.595340</td>\n",
       "      <td>1.165561</td>\n",
       "      <td>-0.964106</td>\n",
       "      <td>2019.583333</td>\n",
       "    </tr>\n",
       "    <tr>\n",
       "      <th>236</th>\n",
       "      <td>Sep-19</td>\n",
       "      <td>26.3</td>\n",
       "      <td>26.2</td>\n",
       "      <td>3735.024258</td>\n",
       "      <td>1.181315</td>\n",
       "      <td>-1.085163</td>\n",
       "      <td>2019.666667</td>\n",
       "    </tr>\n",
       "    <tr>\n",
       "      <th>237</th>\n",
       "      <td>Oct-19</td>\n",
       "      <td>21.0</td>\n",
       "      <td>20.9</td>\n",
       "      <td>3732.208681</td>\n",
       "      <td>1.202974</td>\n",
       "      <td>-1.159728</td>\n",
       "      <td>2019.750000</td>\n",
       "    </tr>\n",
       "    <tr>\n",
       "      <th>238</th>\n",
       "      <td>Nov-19</td>\n",
       "      <td>15.2</td>\n",
       "      <td>15.1</td>\n",
       "      <td>3746.955056</td>\n",
       "      <td>1.230336</td>\n",
       "      <td>-0.769199</td>\n",
       "      <td>2019.833333</td>\n",
       "    </tr>\n",
       "    <tr>\n",
       "      <th>239</th>\n",
       "      <td>Dec-19</td>\n",
       "      <td>11.2</td>\n",
       "      <td>11.1</td>\n",
       "      <td>3756.746589</td>\n",
       "      <td>1.249376</td>\n",
       "      <td>-0.509889</td>\n",
       "      <td>2019.916667</td>\n",
       "    </tr>\n",
       "  </tbody>\n",
       "</table>\n",
       "</div>"
      ],
      "text/plain": [
       "       date  temp  sea_level_T     fuji_est       rho  relative_accuracy3  \\\n",
       "216  Jan-18   6.1          6.0  3777.778268  1.266719            0.047094   \n",
       "217  Feb-18   6.7          6.6  3788.944865  1.266742            0.342820   \n",
       "218  Mar-18  12.6         12.5  3753.167723  1.240443           -0.604668   \n",
       "219  Apr-18  16.9         16.8  3755.701849  1.219873           -0.537557   \n",
       "220  May-18  20.0         19.9  3741.130105  1.203274           -0.923461   \n",
       "221  Jun-18  23.0         22.9  3730.421872  1.188366           -1.207048   \n",
       "222  Jul-18  28.1         28.0  3732.073029  1.169852           -1.163320   \n",
       "223  Aug-18  28.6         28.5  3733.353967  1.165947           -1.129397   \n",
       "224  Sep-18  24.0         23.9  3735.133088  1.188706           -1.082281   \n",
       "225  Oct-18  20.0         19.9  3749.025273  1.207676           -0.714373   \n",
       "226  Nov-18  15.4         15.3  3752.037544  1.231417           -0.634599   \n",
       "227  Dec-18  10.6         10.5  3765.577627  1.251037           -0.276016   \n",
       "228  Jan-19   7.6          7.5  3781.177184  1.261933            0.137108   \n",
       "229  Feb-19   9.6          9.5  3765.925635  1.254355           -0.266800   \n",
       "230  Mar-19  11.8         11.7  3783.956374  1.239277            0.210709   \n",
       "231  Apr-19  14.7         14.6  3840.816619  1.226781            1.716542   \n",
       "232  May-19  19.8         19.7          NaN  1.206001                 NaN   \n",
       "233  Jun-19  22.6         22.5  3728.149283  1.187617           -1.267233   \n",
       "234  Jul-19  25.2         25.1  3720.889859  1.179596           -1.459485   \n",
       "235  Aug-19  28.7         28.6  3739.595340  1.165561           -0.964106   \n",
       "236  Sep-19  26.3         26.2  3735.024258  1.181315           -1.085163   \n",
       "237  Oct-19  21.0         20.9  3732.208681  1.202974           -1.159728   \n",
       "238  Nov-19  15.2         15.1  3746.955056  1.230336           -0.769199   \n",
       "239  Dec-19  11.2         11.1  3756.746589  1.249376           -0.509889   \n",
       "\n",
       "         date_pp  \n",
       "216  2018.000000  \n",
       "217  2018.083333  \n",
       "218  2018.166667  \n",
       "219  2018.250000  \n",
       "220  2018.333333  \n",
       "221  2018.416667  \n",
       "222  2018.500000  \n",
       "223  2018.583333  \n",
       "224  2018.666667  \n",
       "225  2018.750000  \n",
       "226  2018.833333  \n",
       "227  2018.916667  \n",
       "228  2019.000000  \n",
       "229  2019.083333  \n",
       "230  2019.166667  \n",
       "231  2019.250000  \n",
       "232  2019.333333  \n",
       "233  2019.416667  \n",
       "234  2019.500000  \n",
       "235  2019.583333  \n",
       "236  2019.666667  \n",
       "237  2019.750000  \n",
       "238  2019.833333  \n",
       "239  2019.916667  "
      ]
     },
     "execution_count": 224,
     "metadata": {},
     "output_type": "execute_result"
    }
   ],
   "source": [
    "df_temp.tail(24)"
   ]
  },
  {
   "cell_type": "code",
   "execution_count": 217,
   "metadata": {},
   "outputs": [],
   "source": [
    "df_temp['date_pp'] = np.linspace(2000, 2020, 20*12, endpoint=False)"
   ]
  },
  {
   "cell_type": "code",
   "execution_count": 221,
   "metadata": {},
   "outputs": [
    {
     "data": {
      "image/png": "[encoded data removed]",
      "text/plain": [
       "<Figure size 1008x432 with 1 Axes>"
      ]
     },
     "metadata": {},
     "output_type": "display_data"
    }
   ],
   "source": [
    "plt.figure(figsize = (14, 6))\n",
    "plt.style.use('seaborn-whitegrid')\n",
    "plt.plot(df_temp['date_pp'], df_temp['fuji_est'], 'b', label='estimated height')\n",
    "#plt.plot(df['date'][:72], df['fuji_height'][:72])\n",
    "plt.hlines([3776], 1999.5, 2020.5, \"r\", linestyles='dashdot', label='true height = 3776')\n",
    "#plt.vlines(np.arange(0, 21)-1/24, 3520, 3950, 'k', linestyles = 'dotted')\n",
    "plt.xticks(np.arange(2000, 2021))\n",
    "plt.xlim([1999.5, 2020.5])\n",
    "plt.ylim([3700, 3850])\n",
    "plt.xlabel('year')\n",
    "plt.ylabel('height(m)')\n",
    "plt.legend(loc='upper left')\n",
    "plt.savefig('plot3.jpg')\n",
    "plt.show()"
   ]
  },
  {
   "cell_type": "code",
   "execution_count": 222,
   "metadata": {},
   "outputs": [
    {
     "name": "stdout",
     "output_type": "stream",
     "text": [
      "1.7165418191352901 -1.6446797149549295\n"
     ]
    }
   ],
   "source": [
    "print(df_temp['relative_accuracy3'].max(), df_temp['relative_accuracy3'].min())"
   ]
  },
  {
   "cell_type": "code",
   "execution_count": 173,
   "metadata": {},
   "outputs": [],
   "source": [
    "df[['date', 'shizuoka_p', 'fuji_p', 'sea_level_p', 'ln(sea_level_p/fuji_p)', 'fuji_z_est', 'diff', \n",
    "   'relative_accuracy']].head(12).to_csv('table.csv', index=False)"
   ]
  },
  {
   "cell_type": "code",
   "execution_count": 150,
   "metadata": {},
   "outputs": [
    {
     "name": "stdout",
     "output_type": "stream",
     "text": [
      "285.0 289.0\n"
     ]
    }
   ],
   "source": [
    "print(df['sea_level_T'].min(), df['sea_level_T'].max())"
   ]
  },
  {
   "cell_type": "code",
   "execution_count": 163,
   "metadata": {},
   "outputs": [],
   "source": [
    "df_temp = pd.read_csv('temp.csv')"
   ]
  },
  {
   "cell_type": "code",
   "execution_count": 164,
   "metadata": {},
   "outputs": [],
   "source": [
    "df_temp['mean_temp'] = (df_temp['shizuoka_temp'] + df_temp['fuji_temp']) / 2"
   ]
  },
  {
   "cell_type": "code",
   "execution_count": 230,
   "metadata": {},
   "outputs": [
    {
     "data": {
      "text/html": [
       "<div>\n",
       "<style scoped>\n",
       "    .dataframe tbody tr th:only-of-type {\n",
       "        vertical-align: middle;\n",
       "    }\n",
       "\n",
       "    .dataframe tbody tr th {\n",
       "        vertical-align: top;\n",
       "    }\n",
       "\n",
       "    .dataframe thead th {\n",
       "        text-align: right;\n",
       "    }\n",
       "</style>\n",
       "<table border=\"1\" class=\"dataframe\">\n",
       "  <thead>\n",
       "    <tr style=\"text-align: right;\">\n",
       "      <th></th>\n",
       "      <th>date</th>\n",
       "      <th>temp</th>\n",
       "      <th>sea_level_T</th>\n",
       "      <th>fuji_est</th>\n",
       "      <th>rho</th>\n",
       "      <th>relative_accuracy3</th>\n",
       "      <th>date_pp</th>\n",
       "    </tr>\n",
       "  </thead>\n",
       "  <tbody>\n",
       "    <tr>\n",
       "      <th>3</th>\n",
       "      <td>Apr-00</td>\n",
       "      <td>14.9</td>\n",
       "      <td>14.8</td>\n",
       "      <td>3771.329993</td>\n",
       "      <td>1.223386</td>\n",
       "      <td>-0.123676</td>\n",
       "      <td>2000.25</td>\n",
       "    </tr>\n",
       "    <tr>\n",
       "      <th>15</th>\n",
       "      <td>Apr-01</td>\n",
       "      <td>15.3</td>\n",
       "      <td>15.2</td>\n",
       "      <td>3760.546543</td>\n",
       "      <td>1.226283</td>\n",
       "      <td>-0.409255</td>\n",
       "      <td>2001.25</td>\n",
       "    </tr>\n",
       "    <tr>\n",
       "      <th>27</th>\n",
       "      <td>Apr-02</td>\n",
       "      <td>16.4</td>\n",
       "      <td>16.3</td>\n",
       "      <td>3755.787418</td>\n",
       "      <td>1.222824</td>\n",
       "      <td>-0.535291</td>\n",
       "      <td>2002.25</td>\n",
       "    </tr>\n",
       "    <tr>\n",
       "      <th>39</th>\n",
       "      <td>Apr-03</td>\n",
       "      <td>16.0</td>\n",
       "      <td>15.9</td>\n",
       "      <td>3754.021323</td>\n",
       "      <td>1.222949</td>\n",
       "      <td>-0.582062</td>\n",
       "      <td>2003.25</td>\n",
       "    </tr>\n",
       "    <tr>\n",
       "      <th>51</th>\n",
       "      <td>Apr-04</td>\n",
       "      <td>16.3</td>\n",
       "      <td>16.2</td>\n",
       "      <td>3761.284734</td>\n",
       "      <td>1.218187</td>\n",
       "      <td>-0.389705</td>\n",
       "      <td>2004.25</td>\n",
       "    </tr>\n",
       "    <tr>\n",
       "      <th>63</th>\n",
       "      <td>Apr-05</td>\n",
       "      <td>15.5</td>\n",
       "      <td>15.4</td>\n",
       "      <td>3757.990813</td>\n",
       "      <td>1.225191</td>\n",
       "      <td>-0.476938</td>\n",
       "      <td>2005.25</td>\n",
       "    </tr>\n",
       "    <tr>\n",
       "      <th>75</th>\n",
       "      <td>Apr-06</td>\n",
       "      <td>13.9</td>\n",
       "      <td>13.8</td>\n",
       "      <td>3765.665860</td>\n",
       "      <td>1.227288</td>\n",
       "      <td>-0.273680</td>\n",
       "      <td>2006.25</td>\n",
       "    </tr>\n",
       "    <tr>\n",
       "      <th>87</th>\n",
       "      <td>Apr-07</td>\n",
       "      <td>14.4</td>\n",
       "      <td>14.3</td>\n",
       "      <td>3775.290759</td>\n",
       "      <td>1.229518</td>\n",
       "      <td>-0.018783</td>\n",
       "      <td>2007.25</td>\n",
       "    </tr>\n",
       "    <tr>\n",
       "      <th>99</th>\n",
       "      <td>Apr-08</td>\n",
       "      <td>15.4</td>\n",
       "      <td>15.3</td>\n",
       "      <td>3761.205125</td>\n",
       "      <td>1.224407</td>\n",
       "      <td>-0.391813</td>\n",
       "      <td>2008.25</td>\n",
       "    </tr>\n",
       "    <tr>\n",
       "      <th>111</th>\n",
       "      <td>Apr-09</td>\n",
       "      <td>15.4</td>\n",
       "      <td>15.3</td>\n",
       "      <td>3760.132341</td>\n",
       "      <td>1.224044</td>\n",
       "      <td>-0.420224</td>\n",
       "      <td>2009.25</td>\n",
       "    </tr>\n",
       "    <tr>\n",
       "      <th>123</th>\n",
       "      <td>Apr-10</td>\n",
       "      <td>13.6</td>\n",
       "      <td>13.5</td>\n",
       "      <td>3754.855921</td>\n",
       "      <td>1.236599</td>\n",
       "      <td>-0.559960</td>\n",
       "      <td>2010.25</td>\n",
       "    </tr>\n",
       "    <tr>\n",
       "      <th>135</th>\n",
       "      <td>Apr-11</td>\n",
       "      <td>14.7</td>\n",
       "      <td>14.6</td>\n",
       "      <td>3779.076175</td>\n",
       "      <td>1.227629</td>\n",
       "      <td>0.081466</td>\n",
       "      <td>2011.25</td>\n",
       "    </tr>\n",
       "    <tr>\n",
       "      <th>147</th>\n",
       "      <td>Apr-12</td>\n",
       "      <td>14.8</td>\n",
       "      <td>14.7</td>\n",
       "      <td>3767.513765</td>\n",
       "      <td>1.229019</td>\n",
       "      <td>-0.224741</td>\n",
       "      <td>2012.25</td>\n",
       "    </tr>\n",
       "    <tr>\n",
       "      <th>159</th>\n",
       "      <td>Apr-13</td>\n",
       "      <td>15.4</td>\n",
       "      <td>15.3</td>\n",
       "      <td>3785.350470</td>\n",
       "      <td>1.220902</td>\n",
       "      <td>0.247629</td>\n",
       "      <td>2013.25</td>\n",
       "    </tr>\n",
       "    <tr>\n",
       "      <th>171</th>\n",
       "      <td>Apr-14</td>\n",
       "      <td>14.2</td>\n",
       "      <td>14.1</td>\n",
       "      <td>3764.815050</td>\n",
       "      <td>1.232801</td>\n",
       "      <td>-0.296212</td>\n",
       "      <td>2014.25</td>\n",
       "    </tr>\n",
       "    <tr>\n",
       "      <th>183</th>\n",
       "      <td>Apr-15</td>\n",
       "      <td>15.4</td>\n",
       "      <td>15.3</td>\n",
       "      <td>3735.916224</td>\n",
       "      <td>1.228274</td>\n",
       "      <td>-1.061541</td>\n",
       "      <td>2015.25</td>\n",
       "    </tr>\n",
       "    <tr>\n",
       "      <th>195</th>\n",
       "      <td>Apr-16</td>\n",
       "      <td>16.6</td>\n",
       "      <td>16.5</td>\n",
       "      <td>3756.906644</td>\n",
       "      <td>1.219452</td>\n",
       "      <td>-0.505650</td>\n",
       "      <td>2016.25</td>\n",
       "    </tr>\n",
       "    <tr>\n",
       "      <th>207</th>\n",
       "      <td>Apr-17</td>\n",
       "      <td>15.2</td>\n",
       "      <td>15.1</td>\n",
       "      <td>3768.457263</td>\n",
       "      <td>1.224894</td>\n",
       "      <td>-0.199755</td>\n",
       "      <td>2017.25</td>\n",
       "    </tr>\n",
       "    <tr>\n",
       "      <th>219</th>\n",
       "      <td>Apr-18</td>\n",
       "      <td>16.9</td>\n",
       "      <td>16.8</td>\n",
       "      <td>3755.701849</td>\n",
       "      <td>1.219873</td>\n",
       "      <td>-0.537557</td>\n",
       "      <td>2018.25</td>\n",
       "    </tr>\n",
       "    <tr>\n",
       "      <th>231</th>\n",
       "      <td>Apr-19</td>\n",
       "      <td>14.7</td>\n",
       "      <td>14.6</td>\n",
       "      <td>3840.816619</td>\n",
       "      <td>1.226781</td>\n",
       "      <td>1.716542</td>\n",
       "      <td>2019.25</td>\n",
       "    </tr>\n",
       "  </tbody>\n",
       "</table>\n",
       "</div>"
      ],
      "text/plain": [
       "       date  temp  sea_level_T     fuji_est       rho  relative_accuracy3  \\\n",
       "3    Apr-00  14.9         14.8  3771.329993  1.223386           -0.123676   \n",
       "15   Apr-01  15.3         15.2  3760.546543  1.226283           -0.409255   \n",
       "27   Apr-02  16.4         16.3  3755.787418  1.222824           -0.535291   \n",
       "39   Apr-03  16.0         15.9  3754.021323  1.222949           -0.582062   \n",
       "51   Apr-04  16.3         16.2  3761.284734  1.218187           -0.389705   \n",
       "63   Apr-05  15.5         15.4  3757.990813  1.225191           -0.476938   \n",
       "75   Apr-06  13.9         13.8  3765.665860  1.227288           -0.273680   \n",
       "87   Apr-07  14.4         14.3  3775.290759  1.229518           -0.018783   \n",
       "99   Apr-08  15.4         15.3  3761.205125  1.224407           -0.391813   \n",
       "111  Apr-09  15.4         15.3  3760.132341  1.224044           -0.420224   \n",
       "123  Apr-10  13.6         13.5  3754.855921  1.236599           -0.559960   \n",
       "135  Apr-11  14.7         14.6  3779.076175  1.227629            0.081466   \n",
       "147  Apr-12  14.8         14.7  3767.513765  1.229019           -0.224741   \n",
       "159  Apr-13  15.4         15.3  3785.350470  1.220902            0.247629   \n",
       "171  Apr-14  14.2         14.1  3764.815050  1.232801           -0.296212   \n",
       "183  Apr-15  15.4         15.3  3735.916224  1.228274           -1.061541   \n",
       "195  Apr-16  16.6         16.5  3756.906644  1.219452           -0.505650   \n",
       "207  Apr-17  15.2         15.1  3768.457263  1.224894           -0.199755   \n",
       "219  Apr-18  16.9         16.8  3755.701849  1.219873           -0.537557   \n",
       "231  Apr-19  14.7         14.6  3840.816619  1.226781            1.716542   \n",
       "\n",
       "     date_pp  \n",
       "3    2000.25  \n",
       "15   2001.25  \n",
       "27   2002.25  \n",
       "39   2003.25  \n",
       "51   2004.25  \n",
       "63   2005.25  \n",
       "75   2006.25  \n",
       "87   2007.25  \n",
       "99   2008.25  \n",
       "111  2009.25  \n",
       "123  2010.25  \n",
       "135  2011.25  \n",
       "147  2012.25  \n",
       "159  2013.25  \n",
       "171  2014.25  \n",
       "183  2015.25  \n",
       "195  2016.25  \n",
       "207  2017.25  \n",
       "219  2018.25  \n",
       "231  2019.25  "
      ]
     },
     "execution_count": 230,
     "metadata": {},
     "output_type": "execute_result"
    }
   ],
   "source": [
    "df_temp[3:240:12]"
   ]
  },
  {
   "cell_type": "code",
   "execution_count": 166,
   "metadata": {},
   "outputs": [],
   "source": [
    "df_temp.head(12).to_csv('table_temp.csv', index=False)"
   ]
  },
  {
   "cell_type": "code",
   "execution_count": null,
   "metadata": {},
   "outputs": [],
   "source": []
  }
 ],
 "metadata": {
  "kernelspec": {
   "display_name": "Python 3",
   "language": "python",
   "name": "python3"
  },
  "language_info": {
   "codemirror_mode": {
    "name": "ipython",
    "version": 3
   },
   "file_extension": ".py",
   "mimetype": "text/x-python",
   "name": "python",
   "nbconvert_exporter": "python",
   "pygments_lexer": "ipython3",
   "version": "3.7.7"
  }
 },
 "nbformat": 4,
 "nbformat_minor": 4
}
